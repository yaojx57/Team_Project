{
 "cells": [
  {
   "cell_type": "code",
   "execution_count": 9,
   "metadata": {},
   "outputs": [],
   "source": [
    "import pandas as pd\n",
    "import sklearn\n",
    "from sklearn.model_selection import train_test_split\n",
    "import copy\n",
    "from sklearn.neural_network import MLPRegressor\n",
    "import numpy as np\n"
   ]
  },
  {
   "cell_type": "code",
   "execution_count": 2,
   "metadata": {},
   "outputs": [],
   "source": [
    "data = pd.read_json('2d.json')"
   ]
  },
  {
   "cell_type": "code",
   "execution_count": 3,
   "metadata": {},
   "outputs": [
    {
     "data": {
      "text/html": [
       "<div>\n",
       "<style scoped>\n",
       "    .dataframe tbody tr th:only-of-type {\n",
       "        vertical-align: middle;\n",
       "    }\n",
       "\n",
       "    .dataframe tbody tr th {\n",
       "        vertical-align: top;\n",
       "    }\n",
       "\n",
       "    .dataframe thead th {\n",
       "        text-align: right;\n",
       "    }\n",
       "</style>\n",
       "<table border=\"1\" class=\"dataframe\">\n",
       "  <thead>\n",
       "    <tr style=\"text-align: right;\">\n",
       "      <th></th>\n",
       "      <th>S1</th>\n",
       "      <th>S5</th>\n",
       "      <th>S6</th>\n",
       "      <th>S7</th>\n",
       "      <th>S8</th>\n",
       "      <th>S9</th>\n",
       "      <th>S11</th>\n",
       "    </tr>\n",
       "  </thead>\n",
       "  <tbody>\n",
       "    <tr>\n",
       "      <th>Eating 2</th>\n",
       "      <td>[[[[-0.1315677166, -0.1439898312], [-0.0832065...</td>\n",
       "      <td>None</td>\n",
       "      <td>[[[[-0.0761688948, -0.1894297302], [-0.0236358...</td>\n",
       "      <td>None</td>\n",
       "      <td>None</td>\n",
       "      <td>None</td>\n",
       "      <td>None</td>\n",
       "    </tr>\n",
       "    <tr>\n",
       "      <th>Phoning 1</th>\n",
       "      <td>[[[[-0.2167079449, -0.1453259885], [-0.1657710...</td>\n",
       "      <td>[[[[-0.0136403441, -0.10642620180000001], [0.0...</td>\n",
       "      <td>[[[[0.576584816, -0.09058579060000001], [0.644...</td>\n",
       "      <td>None</td>\n",
       "      <td>[[[[-0.0802215934, -0.1342042387], [-0.0214096...</td>\n",
       "      <td>[[[[-0.1306898594, -0.19962194560000002], [-0....</td>\n",
       "      <td>None</td>\n",
       "    </tr>\n",
       "    <tr>\n",
       "      <th>SittingDown 2</th>\n",
       "      <td>[[[[-0.108443141, -0.1404363811], [-0.05967712...</td>\n",
       "      <td>None</td>\n",
       "      <td>None</td>\n",
       "      <td>None</td>\n",
       "      <td>None</td>\n",
       "      <td>None</td>\n",
       "      <td>None</td>\n",
       "    </tr>\n",
       "    <tr>\n",
       "      <th>Purchases 1</th>\n",
       "      <td>[[[[-0.0090656281, -0.11642517890000001], [0.0...</td>\n",
       "      <td>[[[[0.0022814274, -0.0980696306], [0.054671645...</td>\n",
       "      <td>[[[[-0.1373087168, -0.068529509], [-0.04971909...</td>\n",
       "      <td>[[[[0.33222126960000004, 0.0445252396], [0.415...</td>\n",
       "      <td>[[[[0.11121654510000001, -0.070036076], [0.179...</td>\n",
       "      <td>[[[[0.11907720570000001, -0.0685841665], [0.18...</td>\n",
       "      <td>[[[[0.2337292433, -0.062089648100000006], [0.3...</td>\n",
       "    </tr>\n",
       "    <tr>\n",
       "      <th>Discussion 1</th>\n",
       "      <td>[[[[0.128502965, -0.129943639], [0.1589460373,...</td>\n",
       "      <td>None</td>\n",
       "      <td>[[[[0.11463034150000001, -0.1405999959], [0.18...</td>\n",
       "      <td>[[[[0.012275815, -0.1389590204], [0.0648372173...</td>\n",
       "      <td>[[[[-0.0248137116, -0.1333484352], [0.03289902...</td>\n",
       "      <td>[[[[-0.11695647240000001, -0.1844668686], [-0....</td>\n",
       "      <td>[[[[-0.0625774264, -0.1773800552], [-0.0052472...</td>\n",
       "    </tr>\n",
       "  </tbody>\n",
       "</table>\n",
       "</div>"
      ],
      "text/plain": [
       "                                                              S1   \n",
       "Eating 2       [[[[-0.1315677166, -0.1439898312], [-0.0832065...  \\\n",
       "Phoning 1      [[[[-0.2167079449, -0.1453259885], [-0.1657710...   \n",
       "SittingDown 2  [[[[-0.108443141, -0.1404363811], [-0.05967712...   \n",
       "Purchases 1    [[[[-0.0090656281, -0.11642517890000001], [0.0...   \n",
       "Discussion 1   [[[[0.128502965, -0.129943639], [0.1589460373,...   \n",
       "\n",
       "                                                              S5   \n",
       "Eating 2                                                    None  \\\n",
       "Phoning 1      [[[[-0.0136403441, -0.10642620180000001], [0.0...   \n",
       "SittingDown 2                                               None   \n",
       "Purchases 1    [[[[0.0022814274, -0.0980696306], [0.054671645...   \n",
       "Discussion 1                                                None   \n",
       "\n",
       "                                                              S6   \n",
       "Eating 2       [[[[-0.0761688948, -0.1894297302], [-0.0236358...  \\\n",
       "Phoning 1      [[[[0.576584816, -0.09058579060000001], [0.644...   \n",
       "SittingDown 2                                               None   \n",
       "Purchases 1    [[[[-0.1373087168, -0.068529509], [-0.04971909...   \n",
       "Discussion 1   [[[[0.11463034150000001, -0.1405999959], [0.18...   \n",
       "\n",
       "                                                              S7   \n",
       "Eating 2                                                    None  \\\n",
       "Phoning 1                                                   None   \n",
       "SittingDown 2                                               None   \n",
       "Purchases 1    [[[[0.33222126960000004, 0.0445252396], [0.415...   \n",
       "Discussion 1   [[[[0.012275815, -0.1389590204], [0.0648372173...   \n",
       "\n",
       "                                                              S8   \n",
       "Eating 2                                                    None  \\\n",
       "Phoning 1      [[[[-0.0802215934, -0.1342042387], [-0.0214096...   \n",
       "SittingDown 2                                               None   \n",
       "Purchases 1    [[[[0.11121654510000001, -0.070036076], [0.179...   \n",
       "Discussion 1   [[[[-0.0248137116, -0.1333484352], [0.03289902...   \n",
       "\n",
       "                                                              S9   \n",
       "Eating 2                                                    None  \\\n",
       "Phoning 1      [[[[-0.1306898594, -0.19962194560000002], [-0....   \n",
       "SittingDown 2                                               None   \n",
       "Purchases 1    [[[[0.11907720570000001, -0.0685841665], [0.18...   \n",
       "Discussion 1   [[[[-0.11695647240000001, -0.1844668686], [-0....   \n",
       "\n",
       "                                                             S11  \n",
       "Eating 2                                                    None  \n",
       "Phoning 1                                                   None  \n",
       "SittingDown 2                                               None  \n",
       "Purchases 1    [[[[0.2337292433, -0.062089648100000006], [0.3...  \n",
       "Discussion 1   [[[[-0.0625774264, -0.1773800552], [-0.0052472...  "
      ]
     },
     "execution_count": 3,
     "metadata": {},
     "output_type": "execute_result"
    }
   ],
   "source": [
    "data.head()"
   ]
  },
  {
   "cell_type": "code",
   "execution_count": 4,
   "metadata": {},
   "outputs": [
    {
     "name": "stdout",
     "output_type": "stream",
     "text": [
      "[[-0.1315677166, -0.1439898312], [-0.0832065344, -0.1502251923], [-0.0929523706, 0.0301453806], [-0.0936837196, 0.2141344249], [-0.1810168624, -0.1375817358], [-0.1619638205, 0.044731829300000005], [-0.1412203908, 0.2294565141], [-0.1203936934, -0.23739704490000002], [-0.1170638204, -0.34502115850000004], [-0.1086872816, -0.4232434332], [-0.168561697, -0.3118789494], [-0.21077120300000002, -0.2008599341], [-0.2383298278, -0.1046809778], [-0.0669276714, -0.31311479210000004], [-0.0381518006, -0.2016388476], [-0.0374820232, -0.1063844785]]\n"
     ]
    }
   ],
   "source": [
    "print(data['S1'][0][0][0])"
   ]
  },
  {
   "cell_type": "code",
   "execution_count": 5,
   "metadata": {},
   "outputs": [],
   "source": [
    "data_copy = copy.copy(data)"
   ]
  },
  {
   "cell_type": "code",
   "execution_count": 20,
   "metadata": {},
   "outputs": [],
   "source": [
    "data_copy = data_copy.rename(columns={'S111':'S1'})\n"
   ]
  },
  {
   "cell_type": "code",
   "execution_count": 21,
   "metadata": {},
   "outputs": [
    {
     "name": "stdout",
     "output_type": "stream",
     "text": [
      "Index(['S1', 'S5', 'S6', 'S7', 'S8', 'S9', 'S11'], dtype='object')\n",
      "Index(['S1', 'S5', 'S6', 'S7', 'S8', 'S9', 'S11'], dtype='object')\n"
     ]
    }
   ],
   "source": [
    "print(data_copy.columns)\n",
    "print(data.columns)"
   ]
  },
  {
   "cell_type": "code",
   "execution_count": 36,
   "metadata": {},
   "outputs": [],
   "source": [
    "\n",
    "def turn_li(data_copy, action):\n",
    "    for i in range(len(data_copy['S1'][0][action])):\n",
    "        li = []\n",
    "        for x in data_copy['S1'][0][action][i]:\n",
    "            print(x)\n",
    "            li.extend(x)\n",
    "        data_copy['S1'][0][action][i] = li\n",
    "    return  data_copy['S1'][0][action]"
   ]
  },
  {
   "cell_type": "code",
   "execution_count": 26,
   "metadata": {},
   "outputs": [
    {
     "data": {
      "text/plain": [
       "2357"
      ]
     },
     "execution_count": 26,
     "metadata": {},
     "output_type": "execute_result"
    }
   ],
   "source": [
    "len(data_copy['S1'][0][0])"
   ]
  },
  {
   "cell_type": "code",
   "execution_count": 27,
   "metadata": {},
   "outputs": [],
   "source": [
    "raw_data = data\n",
    "data = data_copy"
   ]
  },
  {
   "cell_type": "code",
   "execution_count": 44,
   "metadata": {},
   "outputs": [],
   "source": [
    "import numpy as np"
   ]
  },
  {
   "cell_type": "code",
   "execution_count": 30,
   "metadata": {},
   "outputs": [],
   "source": [
    "posenet_0 = pd.DataFrame(data['S1'][0][0])"
   ]
  },
  {
   "cell_type": "code",
   "execution_count": 32,
   "metadata": {},
   "outputs": [
    {
     "data": {
      "text/plain": [
       "(2357, 32)"
      ]
     },
     "execution_count": 32,
     "metadata": {},
     "output_type": "execute_result"
    }
   ],
   "source": [
    "posenet_0.shape"
   ]
  },
  {
   "cell_type": "code",
   "execution_count": 38,
   "metadata": {},
   "outputs": [],
   "source": [
    "posenet_1 = pd.DataFrame(data['S1'][0][1])"
   ]
  },
  {
   "cell_type": "code",
   "execution_count": 39,
   "metadata": {},
   "outputs": [
    {
     "data": {
      "text/plain": [
       "(2357, 32)"
      ]
     },
     "execution_count": 39,
     "metadata": {},
     "output_type": "execute_result"
    }
   ],
   "source": [
    "posenet_1.shape"
   ]
  },
  {
   "cell_type": "code",
   "execution_count": 40,
   "metadata": {},
   "outputs": [],
   "source": [
    "posenet_0['label'] = 0"
   ]
  },
  {
   "cell_type": "code",
   "execution_count": 41,
   "metadata": {},
   "outputs": [],
   "source": [
    "posenet_1['label'] = 1"
   ]
  },
  {
   "cell_type": "code",
   "execution_count": 42,
   "metadata": {},
   "outputs": [
    {
     "name": "stdout",
     "output_type": "stream",
     "text": [
      "(2357, 33)\n",
      "(2357, 33)\n"
     ]
    }
   ],
   "source": [
    "print(posenet_0.shape)\n",
    "print(posenet_1.shape)"
   ]
  },
  {
   "cell_type": "code",
   "execution_count": 45,
   "metadata": {},
   "outputs": [],
   "source": [
    "posenet = pd.DataFrame(np.concatenate((posenet_0, posenet_1), axis=0))"
   ]
  },
  {
   "cell_type": "code",
   "execution_count": 46,
   "metadata": {},
   "outputs": [
    {
     "data": {
      "text/plain": [
       "(4714, 33)"
      ]
     },
     "execution_count": 46,
     "metadata": {},
     "output_type": "execute_result"
    }
   ],
   "source": [
    "posenet.shape"
   ]
  },
  {
   "cell_type": "code",
   "execution_count": 51,
   "metadata": {},
   "outputs": [
    {
     "data": {
      "text/html": [
       "<div>\n",
       "<style scoped>\n",
       "    .dataframe tbody tr th:only-of-type {\n",
       "        vertical-align: middle;\n",
       "    }\n",
       "\n",
       "    .dataframe tbody tr th {\n",
       "        vertical-align: top;\n",
       "    }\n",
       "\n",
       "    .dataframe thead th {\n",
       "        text-align: right;\n",
       "    }\n",
       "</style>\n",
       "<table border=\"1\" class=\"dataframe\">\n",
       "  <thead>\n",
       "    <tr style=\"text-align: right;\">\n",
       "      <th></th>\n",
       "      <th>0</th>\n",
       "      <th>1</th>\n",
       "      <th>2</th>\n",
       "      <th>3</th>\n",
       "      <th>4</th>\n",
       "      <th>5</th>\n",
       "      <th>6</th>\n",
       "      <th>7</th>\n",
       "      <th>8</th>\n",
       "      <th>9</th>\n",
       "      <th>...</th>\n",
       "      <th>23</th>\n",
       "      <th>24</th>\n",
       "      <th>25</th>\n",
       "      <th>26</th>\n",
       "      <th>27</th>\n",
       "      <th>28</th>\n",
       "      <th>29</th>\n",
       "      <th>30</th>\n",
       "      <th>31</th>\n",
       "      <th>32</th>\n",
       "    </tr>\n",
       "  </thead>\n",
       "  <tbody>\n",
       "    <tr>\n",
       "      <th>0</th>\n",
       "      <td>-0.131568</td>\n",
       "      <td>-0.143990</td>\n",
       "      <td>-0.083207</td>\n",
       "      <td>-0.150225</td>\n",
       "      <td>-0.092952</td>\n",
       "      <td>0.030145</td>\n",
       "      <td>-0.093684</td>\n",
       "      <td>0.214134</td>\n",
       "      <td>-0.181017</td>\n",
       "      <td>-0.137582</td>\n",
       "      <td>...</td>\n",
       "      <td>-0.200860</td>\n",
       "      <td>-0.238330</td>\n",
       "      <td>-0.104681</td>\n",
       "      <td>-0.066928</td>\n",
       "      <td>-0.313115</td>\n",
       "      <td>-0.038152</td>\n",
       "      <td>-0.201639</td>\n",
       "      <td>-0.037482</td>\n",
       "      <td>-0.106384</td>\n",
       "      <td>0.0</td>\n",
       "    </tr>\n",
       "    <tr>\n",
       "      <th>1</th>\n",
       "      <td>-0.131621</td>\n",
       "      <td>-0.144007</td>\n",
       "      <td>-0.083230</td>\n",
       "      <td>-0.150249</td>\n",
       "      <td>-0.092972</td>\n",
       "      <td>0.030122</td>\n",
       "      <td>-0.093672</td>\n",
       "      <td>0.214112</td>\n",
       "      <td>-0.181098</td>\n",
       "      <td>-0.137592</td>\n",
       "      <td>...</td>\n",
       "      <td>-0.200822</td>\n",
       "      <td>-0.238437</td>\n",
       "      <td>-0.104505</td>\n",
       "      <td>-0.066965</td>\n",
       "      <td>-0.313148</td>\n",
       "      <td>-0.038576</td>\n",
       "      <td>-0.201576</td>\n",
       "      <td>-0.037743</td>\n",
       "      <td>-0.106378</td>\n",
       "      <td>0.0</td>\n",
       "    </tr>\n",
       "    <tr>\n",
       "      <th>2</th>\n",
       "      <td>-0.131665</td>\n",
       "      <td>-0.144022</td>\n",
       "      <td>-0.083235</td>\n",
       "      <td>-0.150260</td>\n",
       "      <td>-0.092930</td>\n",
       "      <td>0.030115</td>\n",
       "      <td>-0.093657</td>\n",
       "      <td>0.214105</td>\n",
       "      <td>-0.181178</td>\n",
       "      <td>-0.137612</td>\n",
       "      <td>...</td>\n",
       "      <td>-0.200729</td>\n",
       "      <td>-0.238209</td>\n",
       "      <td>-0.104335</td>\n",
       "      <td>-0.066967</td>\n",
       "      <td>-0.313141</td>\n",
       "      <td>-0.038977</td>\n",
       "      <td>-0.201456</td>\n",
       "      <td>-0.038230</td>\n",
       "      <td>-0.106366</td>\n",
       "      <td>0.0</td>\n",
       "    </tr>\n",
       "    <tr>\n",
       "      <th>3</th>\n",
       "      <td>-0.131710</td>\n",
       "      <td>-0.144021</td>\n",
       "      <td>-0.083239</td>\n",
       "      <td>-0.150254</td>\n",
       "      <td>-0.092875</td>\n",
       "      <td>0.030126</td>\n",
       "      <td>-0.093669</td>\n",
       "      <td>0.214113</td>\n",
       "      <td>-0.181262</td>\n",
       "      <td>-0.137615</td>\n",
       "      <td>...</td>\n",
       "      <td>-0.200592</td>\n",
       "      <td>-0.237712</td>\n",
       "      <td>-0.104170</td>\n",
       "      <td>-0.066961</td>\n",
       "      <td>-0.313080</td>\n",
       "      <td>-0.039391</td>\n",
       "      <td>-0.201284</td>\n",
       "      <td>-0.038926</td>\n",
       "      <td>-0.106322</td>\n",
       "      <td>0.0</td>\n",
       "    </tr>\n",
       "    <tr>\n",
       "      <th>4</th>\n",
       "      <td>-0.131740</td>\n",
       "      <td>-0.144020</td>\n",
       "      <td>-0.083218</td>\n",
       "      <td>-0.150254</td>\n",
       "      <td>-0.092806</td>\n",
       "      <td>0.030130</td>\n",
       "      <td>-0.093689</td>\n",
       "      <td>0.214117</td>\n",
       "      <td>-0.181340</td>\n",
       "      <td>-0.137615</td>\n",
       "      <td>...</td>\n",
       "      <td>-0.200436</td>\n",
       "      <td>-0.236913</td>\n",
       "      <td>-0.104042</td>\n",
       "      <td>-0.066950</td>\n",
       "      <td>-0.313010</td>\n",
       "      <td>-0.039832</td>\n",
       "      <td>-0.201080</td>\n",
       "      <td>-0.039773</td>\n",
       "      <td>-0.106203</td>\n",
       "      <td>0.0</td>\n",
       "    </tr>\n",
       "    <tr>\n",
       "      <th>...</th>\n",
       "      <td>...</td>\n",
       "      <td>...</td>\n",
       "      <td>...</td>\n",
       "      <td>...</td>\n",
       "      <td>...</td>\n",
       "      <td>...</td>\n",
       "      <td>...</td>\n",
       "      <td>...</td>\n",
       "      <td>...</td>\n",
       "      <td>...</td>\n",
       "      <td>...</td>\n",
       "      <td>...</td>\n",
       "      <td>...</td>\n",
       "      <td>...</td>\n",
       "      <td>...</td>\n",
       "      <td>...</td>\n",
       "      <td>...</td>\n",
       "      <td>...</td>\n",
       "      <td>...</td>\n",
       "      <td>...</td>\n",
       "      <td>...</td>\n",
       "    </tr>\n",
       "    <tr>\n",
       "      <th>4709</th>\n",
       "      <td>0.353846</td>\n",
       "      <td>-0.209768</td>\n",
       "      <td>0.344891</td>\n",
       "      <td>-0.215308</td>\n",
       "      <td>0.376549</td>\n",
       "      <td>-0.045944</td>\n",
       "      <td>0.415329</td>\n",
       "      <td>0.122639</td>\n",
       "      <td>0.363215</td>\n",
       "      <td>-0.203967</td>\n",
       "      <td>...</td>\n",
       "      <td>-0.262713</td>\n",
       "      <td>0.281144</td>\n",
       "      <td>-0.249422</td>\n",
       "      <td>0.370993</td>\n",
       "      <td>-0.377044</td>\n",
       "      <td>0.363851</td>\n",
       "      <td>-0.271304</td>\n",
       "      <td>0.334642</td>\n",
       "      <td>-0.180425</td>\n",
       "      <td>1.0</td>\n",
       "    </tr>\n",
       "    <tr>\n",
       "      <th>4710</th>\n",
       "      <td>0.354026</td>\n",
       "      <td>-0.209775</td>\n",
       "      <td>0.345072</td>\n",
       "      <td>-0.215335</td>\n",
       "      <td>0.376721</td>\n",
       "      <td>-0.045972</td>\n",
       "      <td>0.415336</td>\n",
       "      <td>0.122656</td>\n",
       "      <td>0.363394</td>\n",
       "      <td>-0.203955</td>\n",
       "      <td>...</td>\n",
       "      <td>-0.262751</td>\n",
       "      <td>0.281126</td>\n",
       "      <td>-0.249407</td>\n",
       "      <td>0.371127</td>\n",
       "      <td>-0.377017</td>\n",
       "      <td>0.364094</td>\n",
       "      <td>-0.271257</td>\n",
       "      <td>0.334979</td>\n",
       "      <td>-0.180348</td>\n",
       "      <td>1.0</td>\n",
       "    </tr>\n",
       "    <tr>\n",
       "      <th>4711</th>\n",
       "      <td>0.354211</td>\n",
       "      <td>-0.209777</td>\n",
       "      <td>0.345238</td>\n",
       "      <td>-0.215350</td>\n",
       "      <td>0.376947</td>\n",
       "      <td>-0.046004</td>\n",
       "      <td>0.415351</td>\n",
       "      <td>0.122680</td>\n",
       "      <td>0.363598</td>\n",
       "      <td>-0.203944</td>\n",
       "      <td>...</td>\n",
       "      <td>-0.262797</td>\n",
       "      <td>0.281077</td>\n",
       "      <td>-0.249438</td>\n",
       "      <td>0.371214</td>\n",
       "      <td>-0.377004</td>\n",
       "      <td>0.364301</td>\n",
       "      <td>-0.271235</td>\n",
       "      <td>0.335371</td>\n",
       "      <td>-0.180287</td>\n",
       "      <td>1.0</td>\n",
       "    </tr>\n",
       "    <tr>\n",
       "      <th>4712</th>\n",
       "      <td>0.354416</td>\n",
       "      <td>-0.209780</td>\n",
       "      <td>0.345462</td>\n",
       "      <td>-0.215374</td>\n",
       "      <td>0.377134</td>\n",
       "      <td>-0.046026</td>\n",
       "      <td>0.415368</td>\n",
       "      <td>0.122702</td>\n",
       "      <td>0.363783</td>\n",
       "      <td>-0.203923</td>\n",
       "      <td>...</td>\n",
       "      <td>-0.262852</td>\n",
       "      <td>0.281022</td>\n",
       "      <td>-0.249462</td>\n",
       "      <td>0.371281</td>\n",
       "      <td>-0.376992</td>\n",
       "      <td>0.364517</td>\n",
       "      <td>-0.271210</td>\n",
       "      <td>0.335724</td>\n",
       "      <td>-0.180220</td>\n",
       "      <td>1.0</td>\n",
       "    </tr>\n",
       "    <tr>\n",
       "      <th>4713</th>\n",
       "      <td>0.354605</td>\n",
       "      <td>-0.209764</td>\n",
       "      <td>0.345695</td>\n",
       "      <td>-0.215409</td>\n",
       "      <td>0.377346</td>\n",
       "      <td>-0.046063</td>\n",
       "      <td>0.415363</td>\n",
       "      <td>0.122721</td>\n",
       "      <td>0.363927</td>\n",
       "      <td>-0.203855</td>\n",
       "      <td>...</td>\n",
       "      <td>-0.262912</td>\n",
       "      <td>0.280950</td>\n",
       "      <td>-0.249539</td>\n",
       "      <td>0.371296</td>\n",
       "      <td>-0.376996</td>\n",
       "      <td>0.364703</td>\n",
       "      <td>-0.271204</td>\n",
       "      <td>0.336108</td>\n",
       "      <td>-0.180156</td>\n",
       "      <td>1.0</td>\n",
       "    </tr>\n",
       "  </tbody>\n",
       "</table>\n",
       "<p>4714 rows × 33 columns</p>\n",
       "</div>"
      ],
      "text/plain": [
       "            0         1         2         3         4         5         6    \n",
       "0    -0.131568 -0.143990 -0.083207 -0.150225 -0.092952  0.030145 -0.093684  \\\n",
       "1    -0.131621 -0.144007 -0.083230 -0.150249 -0.092972  0.030122 -0.093672   \n",
       "2    -0.131665 -0.144022 -0.083235 -0.150260 -0.092930  0.030115 -0.093657   \n",
       "3    -0.131710 -0.144021 -0.083239 -0.150254 -0.092875  0.030126 -0.093669   \n",
       "4    -0.131740 -0.144020 -0.083218 -0.150254 -0.092806  0.030130 -0.093689   \n",
       "...        ...       ...       ...       ...       ...       ...       ...   \n",
       "4709  0.353846 -0.209768  0.344891 -0.215308  0.376549 -0.045944  0.415329   \n",
       "4710  0.354026 -0.209775  0.345072 -0.215335  0.376721 -0.045972  0.415336   \n",
       "4711  0.354211 -0.209777  0.345238 -0.215350  0.376947 -0.046004  0.415351   \n",
       "4712  0.354416 -0.209780  0.345462 -0.215374  0.377134 -0.046026  0.415368   \n",
       "4713  0.354605 -0.209764  0.345695 -0.215409  0.377346 -0.046063  0.415363   \n",
       "\n",
       "            7         8         9   ...        23        24        25   \n",
       "0     0.214134 -0.181017 -0.137582  ... -0.200860 -0.238330 -0.104681  \\\n",
       "1     0.214112 -0.181098 -0.137592  ... -0.200822 -0.238437 -0.104505   \n",
       "2     0.214105 -0.181178 -0.137612  ... -0.200729 -0.238209 -0.104335   \n",
       "3     0.214113 -0.181262 -0.137615  ... -0.200592 -0.237712 -0.104170   \n",
       "4     0.214117 -0.181340 -0.137615  ... -0.200436 -0.236913 -0.104042   \n",
       "...        ...       ...       ...  ...       ...       ...       ...   \n",
       "4709  0.122639  0.363215 -0.203967  ... -0.262713  0.281144 -0.249422   \n",
       "4710  0.122656  0.363394 -0.203955  ... -0.262751  0.281126 -0.249407   \n",
       "4711  0.122680  0.363598 -0.203944  ... -0.262797  0.281077 -0.249438   \n",
       "4712  0.122702  0.363783 -0.203923  ... -0.262852  0.281022 -0.249462   \n",
       "4713  0.122721  0.363927 -0.203855  ... -0.262912  0.280950 -0.249539   \n",
       "\n",
       "            26        27        28        29        30        31   32  \n",
       "0    -0.066928 -0.313115 -0.038152 -0.201639 -0.037482 -0.106384  0.0  \n",
       "1    -0.066965 -0.313148 -0.038576 -0.201576 -0.037743 -0.106378  0.0  \n",
       "2    -0.066967 -0.313141 -0.038977 -0.201456 -0.038230 -0.106366  0.0  \n",
       "3    -0.066961 -0.313080 -0.039391 -0.201284 -0.038926 -0.106322  0.0  \n",
       "4    -0.066950 -0.313010 -0.039832 -0.201080 -0.039773 -0.106203  0.0  \n",
       "...        ...       ...       ...       ...       ...       ...  ...  \n",
       "4709  0.370993 -0.377044  0.363851 -0.271304  0.334642 -0.180425  1.0  \n",
       "4710  0.371127 -0.377017  0.364094 -0.271257  0.334979 -0.180348  1.0  \n",
       "4711  0.371214 -0.377004  0.364301 -0.271235  0.335371 -0.180287  1.0  \n",
       "4712  0.371281 -0.376992  0.364517 -0.271210  0.335724 -0.180220  1.0  \n",
       "4713  0.371296 -0.376996  0.364703 -0.271204  0.336108 -0.180156  1.0  \n",
       "\n",
       "[4714 rows x 33 columns]"
      ]
     },
     "execution_count": 51,
     "metadata": {},
     "output_type": "execute_result"
    }
   ],
   "source": [
    "posenet.astype('float')"
   ]
  },
  {
   "cell_type": "code",
   "execution_count": 52,
   "metadata": {},
   "outputs": [],
   "source": [
    "X_train, X_test, Y_train, Y_test = train_test_split(posenet.iloc[:,:32], posenet.iloc[:, 32], test_size=0.3)"
   ]
  },
  {
   "cell_type": "code",
   "execution_count": 49,
   "metadata": {},
   "outputs": [],
   "source": [
    "from sklearn.linear_model import LogisticRegression\n",
    "from sklearn.cluster import KMeans"
   ]
  },
  {
   "cell_type": "code",
   "execution_count": 50,
   "metadata": {},
   "outputs": [],
   "source": [
    "logisticRegr = LogisticRegression()"
   ]
  },
  {
   "cell_type": "code",
   "execution_count": 53,
   "metadata": {},
   "outputs": [
    {
     "data": {
      "text/html": [
       "<style>#sk-container-id-1 {color: black;background-color: white;}#sk-container-id-1 pre{padding: 0;}#sk-container-id-1 div.sk-toggleable {background-color: white;}#sk-container-id-1 label.sk-toggleable__label {cursor: pointer;display: block;width: 100%;margin-bottom: 0;padding: 0.3em;box-sizing: border-box;text-align: center;}#sk-container-id-1 label.sk-toggleable__label-arrow:before {content: \"▸\";float: left;margin-right: 0.25em;color: #696969;}#sk-container-id-1 label.sk-toggleable__label-arrow:hover:before {color: black;}#sk-container-id-1 div.sk-estimator:hover label.sk-toggleable__label-arrow:before {color: black;}#sk-container-id-1 div.sk-toggleable__content {max-height: 0;max-width: 0;overflow: hidden;text-align: left;background-color: #f0f8ff;}#sk-container-id-1 div.sk-toggleable__content pre {margin: 0.2em;color: black;border-radius: 0.25em;background-color: #f0f8ff;}#sk-container-id-1 input.sk-toggleable__control:checked~div.sk-toggleable__content {max-height: 200px;max-width: 100%;overflow: auto;}#sk-container-id-1 input.sk-toggleable__control:checked~label.sk-toggleable__label-arrow:before {content: \"▾\";}#sk-container-id-1 div.sk-estimator input.sk-toggleable__control:checked~label.sk-toggleable__label {background-color: #d4ebff;}#sk-container-id-1 div.sk-label input.sk-toggleable__control:checked~label.sk-toggleable__label {background-color: #d4ebff;}#sk-container-id-1 input.sk-hidden--visually {border: 0;clip: rect(1px 1px 1px 1px);clip: rect(1px, 1px, 1px, 1px);height: 1px;margin: -1px;overflow: hidden;padding: 0;position: absolute;width: 1px;}#sk-container-id-1 div.sk-estimator {font-family: monospace;background-color: #f0f8ff;border: 1px dotted black;border-radius: 0.25em;box-sizing: border-box;margin-bottom: 0.5em;}#sk-container-id-1 div.sk-estimator:hover {background-color: #d4ebff;}#sk-container-id-1 div.sk-parallel-item::after {content: \"\";width: 100%;border-bottom: 1px solid gray;flex-grow: 1;}#sk-container-id-1 div.sk-label:hover label.sk-toggleable__label {background-color: #d4ebff;}#sk-container-id-1 div.sk-serial::before {content: \"\";position: absolute;border-left: 1px solid gray;box-sizing: border-box;top: 0;bottom: 0;left: 50%;z-index: 0;}#sk-container-id-1 div.sk-serial {display: flex;flex-direction: column;align-items: center;background-color: white;padding-right: 0.2em;padding-left: 0.2em;position: relative;}#sk-container-id-1 div.sk-item {position: relative;z-index: 1;}#sk-container-id-1 div.sk-parallel {display: flex;align-items: stretch;justify-content: center;background-color: white;position: relative;}#sk-container-id-1 div.sk-item::before, #sk-container-id-1 div.sk-parallel-item::before {content: \"\";position: absolute;border-left: 1px solid gray;box-sizing: border-box;top: 0;bottom: 0;left: 50%;z-index: -1;}#sk-container-id-1 div.sk-parallel-item {display: flex;flex-direction: column;z-index: 1;position: relative;background-color: white;}#sk-container-id-1 div.sk-parallel-item:first-child::after {align-self: flex-end;width: 50%;}#sk-container-id-1 div.sk-parallel-item:last-child::after {align-self: flex-start;width: 50%;}#sk-container-id-1 div.sk-parallel-item:only-child::after {width: 0;}#sk-container-id-1 div.sk-dashed-wrapped {border: 1px dashed gray;margin: 0 0.4em 0.5em 0.4em;box-sizing: border-box;padding-bottom: 0.4em;background-color: white;}#sk-container-id-1 div.sk-label label {font-family: monospace;font-weight: bold;display: inline-block;line-height: 1.2em;}#sk-container-id-1 div.sk-label-container {text-align: center;}#sk-container-id-1 div.sk-container {/* jupyter's `normalize.less` sets `[hidden] { display: none; }` but bootstrap.min.css set `[hidden] { display: none !important; }` so we also need the `!important` here to be able to override the default hidden behavior on the sphinx rendered scikit-learn.org. See: https://github.com/scikit-learn/scikit-learn/issues/21755 */display: inline-block !important;position: relative;}#sk-container-id-1 div.sk-text-repr-fallback {display: none;}</style><div id=\"sk-container-id-1\" class=\"sk-top-container\"><div class=\"sk-text-repr-fallback\"><pre>LogisticRegression()</pre><b>In a Jupyter environment, please rerun this cell to show the HTML representation or trust the notebook. <br />On GitHub, the HTML representation is unable to render, please try loading this page with nbviewer.org.</b></div><div class=\"sk-container\" hidden><div class=\"sk-item\"><div class=\"sk-estimator sk-toggleable\"><input class=\"sk-toggleable__control sk-hidden--visually\" id=\"sk-estimator-id-1\" type=\"checkbox\" checked><label for=\"sk-estimator-id-1\" class=\"sk-toggleable__label sk-toggleable__label-arrow\">LogisticRegression</label><div class=\"sk-toggleable__content\"><pre>LogisticRegression()</pre></div></div></div></div></div>"
      ],
      "text/plain": [
       "LogisticRegression()"
      ]
     },
     "execution_count": 53,
     "metadata": {},
     "output_type": "execute_result"
    }
   ],
   "source": [
    "logisticRegr.fit(X_train, Y_train)"
   ]
  },
  {
   "cell_type": "code",
   "execution_count": 54,
   "metadata": {},
   "outputs": [
    {
     "data": {
      "text/plain": [
       "array([1., 1., 1., ..., 0., 1., 0.])"
      ]
     },
     "execution_count": 54,
     "metadata": {},
     "output_type": "execute_result"
    }
   ],
   "source": [
    "logisticRegr.predict(X_test)"
   ]
  },
  {
   "cell_type": "code",
   "execution_count": 55,
   "metadata": {},
   "outputs": [],
   "source": [
    "score = logisticRegr.score(X_test, Y_test)"
   ]
  },
  {
   "cell_type": "code",
   "execution_count": 56,
   "metadata": {},
   "outputs": [
    {
     "name": "stdout",
     "output_type": "stream",
     "text": [
      "0.9971731448763251\n"
     ]
    }
   ],
   "source": [
    "print(score)"
   ]
  },
  {
   "cell_type": "code",
   "execution_count": 12,
   "metadata": {},
   "outputs": [
    {
     "data": {
      "text/html": [
       "<div>\n",
       "<style scoped>\n",
       "    .dataframe tbody tr th:only-of-type {\n",
       "        vertical-align: middle;\n",
       "    }\n",
       "\n",
       "    .dataframe tbody tr th {\n",
       "        vertical-align: top;\n",
       "    }\n",
       "\n",
       "    .dataframe thead th {\n",
       "        text-align: right;\n",
       "    }\n",
       "</style>\n",
       "<table border=\"1\" class=\"dataframe\">\n",
       "  <thead>\n",
       "    <tr style=\"text-align: right;\">\n",
       "      <th></th>\n",
       "      <th>S1</th>\n",
       "      <th>S5</th>\n",
       "      <th>S6</th>\n",
       "      <th>S7</th>\n",
       "      <th>S8</th>\n",
       "      <th>S9</th>\n",
       "      <th>S11</th>\n",
       "    </tr>\n",
       "  </thead>\n",
       "  <tbody>\n",
       "    <tr>\n",
       "      <th>Smoking</th>\n",
       "      <td>{'positions': [[[-0.048790000379085006, -0.197...</td>\n",
       "      <td>NaN</td>\n",
       "      <td>NaN</td>\n",
       "      <td>NaN</td>\n",
       "      <td>{'positions': [[[0.20187199115753102, 0.147817...</td>\n",
       "      <td>NaN</td>\n",
       "      <td>NaN</td>\n",
       "    </tr>\n",
       "    <tr>\n",
       "      <th>SittingDown</th>\n",
       "      <td>NaN</td>\n",
       "      <td>{'positions': [[[0.007241889834403, 0.43302601...</td>\n",
       "      <td>NaN</td>\n",
       "      <td>NaN</td>\n",
       "      <td>NaN</td>\n",
       "      <td>NaN</td>\n",
       "      <td>NaN</td>\n",
       "    </tr>\n",
       "    <tr>\n",
       "      <th>Walking</th>\n",
       "      <td>NaN</td>\n",
       "      <td>NaN</td>\n",
       "      <td>{'positions': [[[-0.08067429810762401, 1.99878...</td>\n",
       "      <td>NaN</td>\n",
       "      <td>NaN</td>\n",
       "      <td>NaN</td>\n",
       "      <td>NaN</td>\n",
       "    </tr>\n",
       "    <tr>\n",
       "      <th>Greeting 1</th>\n",
       "      <td>NaN</td>\n",
       "      <td>NaN</td>\n",
       "      <td>NaN</td>\n",
       "      <td>{'positions': [[[-0.35544300079345703, 0.18958...</td>\n",
       "      <td>NaN</td>\n",
       "      <td>NaN</td>\n",
       "      <td>NaN</td>\n",
       "    </tr>\n",
       "    <tr>\n",
       "      <th>Phoning 1</th>\n",
       "      <td>NaN</td>\n",
       "      <td>NaN</td>\n",
       "      <td>NaN</td>\n",
       "      <td>NaN</td>\n",
       "      <td>NaN</td>\n",
       "      <td>{'positions': [[[-0.029720600694417003, -0.303...</td>\n",
       "      <td>NaN</td>\n",
       "    </tr>\n",
       "  </tbody>\n",
       "</table>\n",
       "</div>"
      ],
      "text/plain": [
       "                                                            S1   \n",
       "Smoking      {'positions': [[[-0.048790000379085006, -0.197...  \\\n",
       "SittingDown                                                NaN   \n",
       "Walking                                                    NaN   \n",
       "Greeting 1                                                 NaN   \n",
       "Phoning 1                                                  NaN   \n",
       "\n",
       "                                                            S5   \n",
       "Smoking                                                    NaN  \\\n",
       "SittingDown  {'positions': [[[0.007241889834403, 0.43302601...   \n",
       "Walking                                                    NaN   \n",
       "Greeting 1                                                 NaN   \n",
       "Phoning 1                                                  NaN   \n",
       "\n",
       "                                                            S6   \n",
       "Smoking                                                    NaN  \\\n",
       "SittingDown                                                NaN   \n",
       "Walking      {'positions': [[[-0.08067429810762401, 1.99878...   \n",
       "Greeting 1                                                 NaN   \n",
       "Phoning 1                                                  NaN   \n",
       "\n",
       "                                                            S7   \n",
       "Smoking                                                    NaN  \\\n",
       "SittingDown                                                NaN   \n",
       "Walking                                                    NaN   \n",
       "Greeting 1   {'positions': [[[-0.35544300079345703, 0.18958...   \n",
       "Phoning 1                                                  NaN   \n",
       "\n",
       "                                                            S8   \n",
       "Smoking      {'positions': [[[0.20187199115753102, 0.147817...  \\\n",
       "SittingDown                                                NaN   \n",
       "Walking                                                    NaN   \n",
       "Greeting 1                                                 NaN   \n",
       "Phoning 1                                                  NaN   \n",
       "\n",
       "                                                            S9  S11  \n",
       "Smoking                                                    NaN  NaN  \n",
       "SittingDown                                                NaN  NaN  \n",
       "Walking                                                    NaN  NaN  \n",
       "Greeting 1                                                 NaN  NaN  \n",
       "Phoning 1    {'positions': [[[-0.029720600694417003, -0.303...  NaN  "
      ]
     },
     "execution_count": 12,
     "metadata": {},
     "output_type": "execute_result"
    }
   ],
   "source": [
    "raw_data_3d = pd.read_json('3d.json')\n",
    "raw_data_3d.head()"
   ]
  },
  {
   "cell_type": "code",
   "execution_count": 13,
   "metadata": {},
   "outputs": [],
   "source": [
    "data_3d = copy.copy(raw_data_3d)"
   ]
  },
  {
   "cell_type": "code",
   "execution_count": 17,
   "metadata": {},
   "outputs": [
    {
     "name": "stdout",
     "output_type": "stream",
     "text": [
      "['positions', 'cameras', 'positions_3d']\n"
     ]
    }
   ],
   "source": [
    "list_3d = list(data_3d['S1'][0].keys())\n",
    "print(list_3d)"
   ]
  },
  {
   "cell_type": "code",
   "execution_count": 20,
   "metadata": {},
   "outputs": [
    {
     "name": "stdout",
     "output_type": "stream",
     "text": [
      "3 4 4\n"
     ]
    }
   ],
   "source": [
    "print(len(data_3d['S1'][0][list_3d[0]][0][0]), len(data_3d['S1'][0][list_3d[1]]), len(data_3d['S1'][0][list_3d[2]]))"
   ]
  },
  {
   "cell_type": "code",
   "execution_count": 22,
   "metadata": {},
   "outputs": [
    {
     "data": {
      "text/html": [
       "<div>\n",
       "<style scoped>\n",
       "    .dataframe tbody tr th:only-of-type {\n",
       "        vertical-align: middle;\n",
       "    }\n",
       "\n",
       "    .dataframe tbody tr th {\n",
       "        vertical-align: top;\n",
       "    }\n",
       "\n",
       "    .dataframe thead th {\n",
       "        text-align: right;\n",
       "    }\n",
       "</style>\n",
       "<table border=\"1\" class=\"dataframe\">\n",
       "  <thead>\n",
       "    <tr style=\"text-align: right;\">\n",
       "      <th></th>\n",
       "      <th>0</th>\n",
       "      <th>1</th>\n",
       "      <th>2</th>\n",
       "      <th>3</th>\n",
       "      <th>4</th>\n",
       "      <th>5</th>\n",
       "      <th>6</th>\n",
       "      <th>7</th>\n",
       "      <th>8</th>\n",
       "      <th>9</th>\n",
       "      <th>...</th>\n",
       "      <th>2468</th>\n",
       "      <th>2469</th>\n",
       "      <th>2470</th>\n",
       "      <th>2471</th>\n",
       "      <th>2472</th>\n",
       "      <th>2473</th>\n",
       "      <th>2474</th>\n",
       "      <th>2475</th>\n",
       "      <th>2476</th>\n",
       "      <th>2477</th>\n",
       "    </tr>\n",
       "  </thead>\n",
       "  <tbody>\n",
       "    <tr>\n",
       "      <th>0</th>\n",
       "      <td>[[-0.356507658958435, -0.41114330291748, 5.496...</td>\n",
       "      <td>[[-0.356430768966674, -0.410886764526367, 5.49...</td>\n",
       "      <td>[[-0.35628354549407903, -0.41065216064453103, ...</td>\n",
       "      <td>[[-0.35621547698974604, -0.41045475006103505, ...</td>\n",
       "      <td>[[-0.35625028610229403, -0.410355567932128, 5....</td>\n",
       "      <td>[[-0.356192827224731, -0.410319328308105, 5.49...</td>\n",
       "      <td>[[-0.35627102851867604, -0.41026067733764604, ...</td>\n",
       "      <td>[[-0.356277465820312, -0.41027736663818304, 5....</td>\n",
       "      <td>[[-0.35624039173126204, -0.41034221649169905, ...</td>\n",
       "      <td>[[-0.356246709823608, -0.41039800643920904, 5....</td>\n",
       "      <td>...</td>\n",
       "      <td>[[-0.057374000549316004, 0.0061731338500970005...</td>\n",
       "      <td>[[-0.05733489990234301, 0.006183147430419001, ...</td>\n",
       "      <td>[[-0.057303786277770004, 0.006341457366943, 4....</td>\n",
       "      <td>[[-0.057295083999633005, 0.006564617156982, 4....</td>\n",
       "      <td>[[-0.057293653488159006, 0.006918430328369, 4....</td>\n",
       "      <td>[[-0.05741500854492101, 0.006723880767822, 4.6...</td>\n",
       "      <td>[[-0.057512879371643004, 0.0069737434387200006...</td>\n",
       "      <td>[[-0.05754280090332001, 0.007443428039550001, ...</td>\n",
       "      <td>[[-0.057582378387451005, 0.007624626159667001,...</td>\n",
       "      <td>[[-0.057628035545349, 0.007686138153076001, 4....</td>\n",
       "    </tr>\n",
       "    <tr>\n",
       "      <th>1</th>\n",
       "      <td>[[0.134859323501586, -0.45901966094970703, 5.2...</td>\n",
       "      <td>[[0.13530409336090002, -0.459012985229492, 5.2...</td>\n",
       "      <td>[[0.135378122329711, -0.45889186859130804, 5.2...</td>\n",
       "      <td>[[0.135570049285888, -0.45882129669189403, 5.2...</td>\n",
       "      <td>[[0.13570237159729, -0.45876789093017506, 5.22...</td>\n",
       "      <td>[[0.135684013366699, -0.45875310897827104, 5.2...</td>\n",
       "      <td>[[0.135965943336486, -0.45878791809082003, 5.2...</td>\n",
       "      <td>[[0.136106252670288, -0.45886421203613204, 5.2...</td>\n",
       "      <td>[[0.13618695735931302, -0.45898294448852506, 5...</td>\n",
       "      <td>[[0.136332273483276, -0.45910263061523404, 5.2...</td>\n",
       "      <td>...</td>\n",
       "      <td>[[0.54219901561737, -0.38912963867187506, 6.09...</td>\n",
       "      <td>[[0.542136669158935, -0.38910913467407204, 6.0...</td>\n",
       "      <td>[[0.542066216468811, -0.388937950134277, 6.090...</td>\n",
       "      <td>[[0.5420405864715571, -0.38871145248413, 6.090...</td>\n",
       "      <td>[[0.542008876800537, -0.38835144042968706, 6.0...</td>\n",
       "      <td>[[0.5421513319015501, -0.38854694366455, 6.090...</td>\n",
       "      <td>[[0.542228102684021, -0.388288974761962, 6.090...</td>\n",
       "      <td>[[0.542242169380188, -0.38781929016113204, 6.0...</td>\n",
       "      <td>[[0.5422818660736081, -0.38763999938964805, 6....</td>\n",
       "      <td>[[0.5423542261123651, -0.387590885162353, 6.09...</td>\n",
       "    </tr>\n",
       "    <tr>\n",
       "      <th>2</th>\n",
       "      <td>[[0.5616822242736811, -0.700110912322998, 5.65...</td>\n",
       "      <td>[[0.5612251758575441, -0.69985294342041, 5.658...</td>\n",
       "      <td>[[0.5611499547958371, -0.699606418609619, 5.65...</td>\n",
       "      <td>[[0.560954213142395, -0.6994047164916991, 5.65...</td>\n",
       "      <td>[[0.5608226060867311, -0.699310302734375, 5.65...</td>\n",
       "      <td>[[0.560840129852294, -0.6992688179016111, 5.65...</td>\n",
       "      <td>[[0.5605528354644771, -0.6992220878601071, 5.6...</td>\n",
       "      <td>[[0.5604065656661981, -0.699240207672119, 5.65...</td>\n",
       "      <td>[[0.5603175163269041, -0.699301242828369, 5.65...</td>\n",
       "      <td>[[0.560164093971252, -0.699358940124511, 5.657...</td>\n",
       "      <td>...</td>\n",
       "      <td>[[0.13808953762054402, -0.260030269622802, 4.9...</td>\n",
       "      <td>[[0.138152956962585, -0.26001501083374, 4.9223...</td>\n",
       "      <td>[[0.13823103904724102, -0.259854316711425, 4.9...</td>\n",
       "      <td>[[0.13826692104339602, -0.25963020324707003, 4...</td>\n",
       "      <td>[[0.138315200805664, -0.25927782058715804, 4.9...</td>\n",
       "      <td>[[0.13816499710083002, -0.25948429107666005, 4...</td>\n",
       "      <td>[[0.13810122013092002, -0.25924587249755804, 4...</td>\n",
       "      <td>[[0.13810825347900302, -0.25878143310546803, 4...</td>\n",
       "      <td>[[0.138076663017272, -0.25860500335693304, 4.9...</td>\n",
       "      <td>[[0.13800692558288502, -0.258549213409423, 4.9...</td>\n",
       "    </tr>\n",
       "    <tr>\n",
       "      <th>3</th>\n",
       "      <td>[[0.14426457881927401, -0.462691783905029, 3.9...</td>\n",
       "      <td>[[0.144177198410034, -0.46277022361755304, 3.9...</td>\n",
       "      <td>[[0.14401400089263902, -0.462669849395751, 3.9...</td>\n",
       "      <td>[[0.14393436908721902, -0.462637901306152, 3.9...</td>\n",
       "      <td>[[0.14396274089813202, -0.46260833740234303, 3...</td>\n",
       "      <td>[[0.14390301704406702, -0.46259307861328103, 3...</td>\n",
       "      <td>[[0.143981218338012, -0.462675333023071, 3.957...</td>\n",
       "      <td>[[0.143992066383361, -0.46277642250061, 3.9580...</td>\n",
       "      <td>[[0.143963694572448, -0.46290922164916903, 3.9...</td>\n",
       "      <td>[[0.14397811889648401, -0.46305346488952603, 3...</td>\n",
       "      <td>...</td>\n",
       "      <td>[[-0.175943970680236, -0.47985458374023404, 4....</td>\n",
       "      <td>[[-0.175984144210815, -0.47982406616210904, 4....</td>\n",
       "      <td>[[-0.17603063583374, -0.47964477539062506, 4.8...</td>\n",
       "      <td>[[-0.176059961318969, -0.479418277740478, 4.85...</td>\n",
       "      <td>[[-0.176093339920043, -0.47905921936035106, 4....</td>\n",
       "      <td>[[-0.17595398426055903, -0.47927284240722606, ...</td>\n",
       "      <td>[[-0.17587840557098303, -0.479029655456542, 4....</td>\n",
       "      <td>[[-0.17589044570922802, -0.47857093811035106, ...</td>\n",
       "      <td>[[-0.17586672306060702, -0.47840070724487305, ...</td>\n",
       "      <td>[[-0.17582595348358102, -0.47836351394653304, ...</td>\n",
       "    </tr>\n",
       "  </tbody>\n",
       "</table>\n",
       "<p>4 rows × 2478 columns</p>\n",
       "</div>"
      ],
      "text/plain": [
       "                                                0      \n",
       "0  [[-0.356507658958435, -0.41114330291748, 5.496...  \\\n",
       "1  [[0.134859323501586, -0.45901966094970703, 5.2...   \n",
       "2  [[0.5616822242736811, -0.700110912322998, 5.65...   \n",
       "3  [[0.14426457881927401, -0.462691783905029, 3.9...   \n",
       "\n",
       "                                                1      \n",
       "0  [[-0.356430768966674, -0.410886764526367, 5.49...  \\\n",
       "1  [[0.13530409336090002, -0.459012985229492, 5.2...   \n",
       "2  [[0.5612251758575441, -0.69985294342041, 5.658...   \n",
       "3  [[0.144177198410034, -0.46277022361755304, 3.9...   \n",
       "\n",
       "                                                2      \n",
       "0  [[-0.35628354549407903, -0.41065216064453103, ...  \\\n",
       "1  [[0.135378122329711, -0.45889186859130804, 5.2...   \n",
       "2  [[0.5611499547958371, -0.699606418609619, 5.65...   \n",
       "3  [[0.14401400089263902, -0.462669849395751, 3.9...   \n",
       "\n",
       "                                                3      \n",
       "0  [[-0.35621547698974604, -0.41045475006103505, ...  \\\n",
       "1  [[0.135570049285888, -0.45882129669189403, 5.2...   \n",
       "2  [[0.560954213142395, -0.6994047164916991, 5.65...   \n",
       "3  [[0.14393436908721902, -0.462637901306152, 3.9...   \n",
       "\n",
       "                                                4      \n",
       "0  [[-0.35625028610229403, -0.410355567932128, 5....  \\\n",
       "1  [[0.13570237159729, -0.45876789093017506, 5.22...   \n",
       "2  [[0.5608226060867311, -0.699310302734375, 5.65...   \n",
       "3  [[0.14396274089813202, -0.46260833740234303, 3...   \n",
       "\n",
       "                                                5      \n",
       "0  [[-0.356192827224731, -0.410319328308105, 5.49...  \\\n",
       "1  [[0.135684013366699, -0.45875310897827104, 5.2...   \n",
       "2  [[0.560840129852294, -0.6992688179016111, 5.65...   \n",
       "3  [[0.14390301704406702, -0.46259307861328103, 3...   \n",
       "\n",
       "                                                6      \n",
       "0  [[-0.35627102851867604, -0.41026067733764604, ...  \\\n",
       "1  [[0.135965943336486, -0.45878791809082003, 5.2...   \n",
       "2  [[0.5605528354644771, -0.6992220878601071, 5.6...   \n",
       "3  [[0.143981218338012, -0.462675333023071, 3.957...   \n",
       "\n",
       "                                                7      \n",
       "0  [[-0.356277465820312, -0.41027736663818304, 5....  \\\n",
       "1  [[0.136106252670288, -0.45886421203613204, 5.2...   \n",
       "2  [[0.5604065656661981, -0.699240207672119, 5.65...   \n",
       "3  [[0.143992066383361, -0.46277642250061, 3.9580...   \n",
       "\n",
       "                                                8      \n",
       "0  [[-0.35624039173126204, -0.41034221649169905, ...  \\\n",
       "1  [[0.13618695735931302, -0.45898294448852506, 5...   \n",
       "2  [[0.5603175163269041, -0.699301242828369, 5.65...   \n",
       "3  [[0.143963694572448, -0.46290922164916903, 3.9...   \n",
       "\n",
       "                                                9     ...   \n",
       "0  [[-0.356246709823608, -0.41039800643920904, 5....  ...  \\\n",
       "1  [[0.136332273483276, -0.45910263061523404, 5.2...  ...   \n",
       "2  [[0.560164093971252, -0.699358940124511, 5.657...  ...   \n",
       "3  [[0.14397811889648401, -0.46305346488952603, 3...  ...   \n",
       "\n",
       "                                                2468   \n",
       "0  [[-0.057374000549316004, 0.0061731338500970005...  \\\n",
       "1  [[0.54219901561737, -0.38912963867187506, 6.09...   \n",
       "2  [[0.13808953762054402, -0.260030269622802, 4.9...   \n",
       "3  [[-0.175943970680236, -0.47985458374023404, 4....   \n",
       "\n",
       "                                                2469   \n",
       "0  [[-0.05733489990234301, 0.006183147430419001, ...  \\\n",
       "1  [[0.542136669158935, -0.38910913467407204, 6.0...   \n",
       "2  [[0.138152956962585, -0.26001501083374, 4.9223...   \n",
       "3  [[-0.175984144210815, -0.47982406616210904, 4....   \n",
       "\n",
       "                                                2470   \n",
       "0  [[-0.057303786277770004, 0.006341457366943, 4....  \\\n",
       "1  [[0.542066216468811, -0.388937950134277, 6.090...   \n",
       "2  [[0.13823103904724102, -0.259854316711425, 4.9...   \n",
       "3  [[-0.17603063583374, -0.47964477539062506, 4.8...   \n",
       "\n",
       "                                                2471   \n",
       "0  [[-0.057295083999633005, 0.006564617156982, 4....  \\\n",
       "1  [[0.5420405864715571, -0.38871145248413, 6.090...   \n",
       "2  [[0.13826692104339602, -0.25963020324707003, 4...   \n",
       "3  [[-0.176059961318969, -0.479418277740478, 4.85...   \n",
       "\n",
       "                                                2472   \n",
       "0  [[-0.057293653488159006, 0.006918430328369, 4....  \\\n",
       "1  [[0.542008876800537, -0.38835144042968706, 6.0...   \n",
       "2  [[0.138315200805664, -0.25927782058715804, 4.9...   \n",
       "3  [[-0.176093339920043, -0.47905921936035106, 4....   \n",
       "\n",
       "                                                2473   \n",
       "0  [[-0.05741500854492101, 0.006723880767822, 4.6...  \\\n",
       "1  [[0.5421513319015501, -0.38854694366455, 6.090...   \n",
       "2  [[0.13816499710083002, -0.25948429107666005, 4...   \n",
       "3  [[-0.17595398426055903, -0.47927284240722606, ...   \n",
       "\n",
       "                                                2474   \n",
       "0  [[-0.057512879371643004, 0.0069737434387200006...  \\\n",
       "1  [[0.542228102684021, -0.388288974761962, 6.090...   \n",
       "2  [[0.13810122013092002, -0.25924587249755804, 4...   \n",
       "3  [[-0.17587840557098303, -0.479029655456542, 4....   \n",
       "\n",
       "                                                2475   \n",
       "0  [[-0.05754280090332001, 0.007443428039550001, ...  \\\n",
       "1  [[0.542242169380188, -0.38781929016113204, 6.0...   \n",
       "2  [[0.13810825347900302, -0.25878143310546803, 4...   \n",
       "3  [[-0.17589044570922802, -0.47857093811035106, ...   \n",
       "\n",
       "                                                2476   \n",
       "0  [[-0.057582378387451005, 0.007624626159667001,...  \\\n",
       "1  [[0.5422818660736081, -0.38763999938964805, 6....   \n",
       "2  [[0.138076663017272, -0.25860500335693304, 4.9...   \n",
       "3  [[-0.17586672306060702, -0.47840070724487305, ...   \n",
       "\n",
       "                                                2477  \n",
       "0  [[-0.057628035545349, 0.007686138153076001, 4....  \n",
       "1  [[0.5423542261123651, -0.387590885162353, 6.09...  \n",
       "2  [[0.13800692558288502, -0.258549213409423, 4.9...  \n",
       "3  [[-0.17582595348358102, -0.47836351394653304, ...  \n",
       "\n",
       "[4 rows x 2478 columns]"
      ]
     },
     "execution_count": 22,
     "metadata": {},
     "output_type": "execute_result"
    }
   ],
   "source": [
    "positions_3d = pd.DataFrame(data_3d['S1'][0][list_3d[2]])\n",
    "positions_3d.head()"
   ]
  },
  {
   "cell_type": "code",
   "execution_count": 30,
   "metadata": {},
   "outputs": [
    {
     "data": {
      "text/plain": [
       "(2478, 16)"
      ]
     },
     "execution_count": 30,
     "metadata": {},
     "output_type": "execute_result"
    }
   ],
   "source": [
    "positions = pd.DataFrame(data_3d['S1'][0][list_3d[0]])\n",
    "positions.shape"
   ]
  },
  {
   "cell_type": "code",
   "execution_count": 38,
   "metadata": {},
   "outputs": [
    {
     "data": {
      "text/plain": [
       "(16, 16)"
      ]
     },
     "execution_count": 38,
     "metadata": {},
     "output_type": "execute_result"
    }
   ],
   "source": [
    "adj_data = pd.read_json('adj.json')\n",
    "# adj_data.head()\n",
    "adj_data.shape"
   ]
  },
  {
   "cell_type": "code",
   "execution_count": 2,
   "metadata": {},
   "outputs": [
    {
     "name": "stdout",
     "output_type": "stream",
     "text": [
      "(600, 2)\n"
     ]
    },
    {
     "data": {
      "text/html": [
       "<div>\n",
       "<style scoped>\n",
       "    .dataframe tbody tr th:only-of-type {\n",
       "        vertical-align: middle;\n",
       "    }\n",
       "\n",
       "    .dataframe tbody tr th {\n",
       "        vertical-align: top;\n",
       "    }\n",
       "\n",
       "    .dataframe thead th {\n",
       "        text-align: right;\n",
       "    }\n",
       "</style>\n",
       "<table border=\"1\" class=\"dataframe\">\n",
       "  <thead>\n",
       "    <tr style=\"text-align: right;\">\n",
       "      <th></th>\n",
       "      <th>3d</th>\n",
       "      <th>2d</th>\n",
       "    </tr>\n",
       "  </thead>\n",
       "  <tbody>\n",
       "    <tr>\n",
       "      <th>0</th>\n",
       "      <td>[[[-0.378442525863647, -0.418123722076416, 5.5...</td>\n",
       "      <td>[[[-0.13156771659851002, -0.14398983120918202]...</td>\n",
       "    </tr>\n",
       "    <tr>\n",
       "      <th>1</th>\n",
       "      <td>[[[0.131415724754333, -0.45322513580322205, 5....</td>\n",
       "      <td>[[[0.075774312019348, -0.183960378170013], [0....</td>\n",
       "    </tr>\n",
       "    <tr>\n",
       "      <th>2</th>\n",
       "      <td>[[[0.566202521324157, -0.7091264724731441, 5.6...</td>\n",
       "      <td>[[[0.26721167564392, -0.282072603702545], [0.3...</td>\n",
       "    </tr>\n",
       "    <tr>\n",
       "      <th>3</th>\n",
       "      <td>[[[0.166283845901489, -0.455571413040161, 3.93...</td>\n",
       "      <td>[[[0.12656784057617101, -0.26292797923088], [0...</td>\n",
       "    </tr>\n",
       "    <tr>\n",
       "      <th>4</th>\n",
       "      <td>[[[-0.585362553596496, -0.42219829559326105, 5...</td>\n",
       "      <td>[[[-0.216707944869995, -0.145325988531112], [-...</td>\n",
       "    </tr>\n",
       "  </tbody>\n",
       "</table>\n",
       "</div>"
      ],
      "text/plain": [
       "                                                  3d   \n",
       "0  [[[-0.378442525863647, -0.418123722076416, 5.5...  \\\n",
       "1  [[[0.131415724754333, -0.45322513580322205, 5....   \n",
       "2  [[[0.566202521324157, -0.7091264724731441, 5.6...   \n",
       "3  [[[0.166283845901489, -0.455571413040161, 3.93...   \n",
       "4  [[[-0.585362553596496, -0.42219829559326105, 5...   \n",
       "\n",
       "                                                  2d  \n",
       "0  [[[-0.13156771659851002, -0.14398983120918202]...  \n",
       "1  [[[0.075774312019348, -0.183960378170013], [0....  \n",
       "2  [[[0.26721167564392, -0.282072603702545], [0.3...  \n",
       "3  [[[0.12656784057617101, -0.26292797923088], [0...  \n",
       "4  [[[-0.216707944869995, -0.145325988531112], [-...  "
      ]
     },
     "execution_count": 2,
     "metadata": {},
     "output_type": "execute_result"
    }
   ],
   "source": [
    "train_data = pd.read_json('train_loader.json')\n",
    "print(train_data.shape)\n",
    "train_data.head()"
   ]
  },
  {
   "cell_type": "code",
   "execution_count": 3,
   "metadata": {},
   "outputs": [],
   "source": []
  },
  {
   "cell_type": "code",
   "execution_count": 4,
   "metadata": {},
   "outputs": [],
   "source": [
    "training_data = copy.copy(train_data)\n",
    "for i in training_data:\n",
    "    training_data[i] = pd.DataFrame(training_data[i])\n",
    "    for j in range(len(training_data)):\n",
    "        training_data[i][j] = list(training_data[i][j])"
   ]
  },
  {
   "cell_type": "code",
   "execution_count": 5,
   "metadata": {},
   "outputs": [],
   "source": [
    "list_training_2d = training_data['2d'].to_list()\n",
    "list_training_3d = training_data['3d'].to_list()"
   ]
  },
  {
   "cell_type": "code",
   "execution_count": 6,
   "metadata": {},
   "outputs": [],
   "source": []
  },
  {
   "cell_type": "code",
   "execution_count": 82,
   "metadata": {},
   "outputs": [],
   "source": [
    "import numpy as np"
   ]
  },
  {
   "cell_type": "code",
   "execution_count": 7,
   "metadata": {},
   "outputs": [],
   "source": [
    "def to_array(li):\n",
    "    for i in range(len(li)):\n",
    "        li[i] = np.array(li[i])\n",
    "        for j in range(len(li[i])):\n",
    "            li[i][j] = np.array(li[i][j])\n",
    "            for k in range(len(li[i][j])):\n",
    "                li[i][j][k] = np.array(li[i][j][k])\n",
    "    return li\n"
   ]
  },
  {
   "cell_type": "code",
   "execution_count": 10,
   "metadata": {},
   "outputs": [],
   "source": [
    "x = to_array(list_training_2d)\n",
    "y = to_array(list_training_3d)"
   ]
  },
  {
   "cell_type": "code",
   "execution_count": 41,
   "metadata": {},
   "outputs": [],
   "source": [
    "y_2d = []\n",
    "for i in range(len(y)):\n",
    "    l2 = []\n",
    "    for j in range(len(y[i])):\n",
    "        l1 = []\n",
    "        for k in range(len(y[i][j])):\n",
    "            l = y[i][j][k][:2]\n",
    "            l1.append(l)\n",
    "        l2.append(l1)\n",
    "    y_2d.append(l2)"
   ]
  },
  {
   "cell_type": "code",
   "execution_count": 76,
   "metadata": {},
   "outputs": [],
   "source": [
    "loss = 0\n",
    "sum = 0\n",
    "\n",
    "def mlp_reg(x_train, y_train, d):\n",
    "    nsamples, nx, ny = np.array(x_train).shape\n",
    "    nsamplesy, na, nb = np.array(y_train).shape\n",
    "    regr = MLPRegressor(random_state=1, max_iter=500)\\\n",
    "    .fit(x_train.reshape(nsamples, nx*ny), y_train.reshape(nsamplesy, na*nb))\n",
    "    loss = regr.loss_\n",
    "    if d != 3:\n",
    "        prediction = regr.predict(x_train.reshape(nsamples, nx*ny)).reshape(nsamples, nx, ny)\n",
    "    else:prediction = None\n",
    "    return loss, prediction"
   ]
  },
  {
   "cell_type": "code",
   "execution_count": 46,
   "metadata": {},
   "outputs": [],
   "source": [
    "y_2d = to_array(y_2d)"
   ]
  },
  {
   "cell_type": "code",
   "execution_count": 60,
   "metadata": {},
   "outputs": [],
   "source": [
    "predictions = []\n",
    "sum_loss = 0\n",
    "for i in range(len(x)):\n",
    "    loss, temp =  mlp_reg(x[i], y_2d[i])\n",
    "    sum_loss += loss\n",
    "    predictions.append(temp)\n",
    "    sum += 1\n",
    "    if i > 10:\n",
    "        break\n",
    "mean_loss = loss/sum\n",
    "print(mean_loss)"
   ]
  },
  {
   "cell_type": "code",
   "execution_count": 48,
   "metadata": {},
   "outputs": [
    {
     "name": "stdout",
     "output_type": "stream",
     "text": [
      "0.002913815347698289\n"
     ]
    }
   ],
   "source": []
  },
  {
   "cell_type": "code",
   "execution_count": 72,
   "metadata": {},
   "outputs": [
    {
     "name": "stdout",
     "output_type": "stream",
     "text": [
      "<class 'numpy.ndarray'>\n",
      "2357\n"
     ]
    }
   ],
   "source": [
    "print(type(predictions[0]))\n",
    "print(len(y[0]))\n",
    "# print(y_2d[0][0])"
   ]
  }
 ],
 "metadata": {
  "kernelspec": {
   "display_name": "poseaug",
   "language": "python",
   "name": "python3"
  },
  "language_info": {
   "codemirror_mode": {
    "name": "ipython",
    "version": 3
   },
   "file_extension": ".py",
   "mimetype": "text/x-python",
   "name": "python",
   "nbconvert_exporter": "python",
   "pygments_lexer": "ipython3",
   "version": "3.8.2"
  },
  "orig_nbformat": 4
 },
 "nbformat": 4,
 "nbformat_minor": 2
}
